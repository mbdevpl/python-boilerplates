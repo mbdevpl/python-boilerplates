{
 "cells": [
  {
   "cell_type": "markdown",
   "id": "63f2dbce",
   "metadata": {},
   "source": [
    "# Examples of using boilerplates"
   ]
  },
  {
   "cell_type": "markdown",
   "id": "a17ad67c",
   "metadata": {},
   "source": [
    "## CLI boilerplate"
   ]
  },
  {
   "cell_type": "code",
   "execution_count": 1,
   "id": "751b6283",
   "metadata": {},
   "outputs": [],
   "source": [
    "import argparse\n",
    "\n",
    "import boilerplates.cli\n",
    "\n",
    "def main(args=None):\n",
    "    \"\"\"Entry point of the command-line interface.\"\"\"\n",
    "    parser = argparse.ArgumentParser(\n",
    "        prog='my-cli',\n",
    "        description='''My command-line interface.''',\n",
    "        epilog=boilerplates.cli.make_copyright_notice(\n",
    "            2019, 2023, author='The Author', license_name='Apache License 2.0',\n",
    "            url='https://github.com/...'))\n",
    "\n",
    "    boilerplates.cli.add_version_option(parser, '1.0.1')\n",
    "    boilerplates.cli.add_verbosity_group(parser)\n",
    "\n",
    "    parsed_args = parser.parse_args(args)\n",
    "\n",
    "    verbosity = boilerplates.cli.get_verbosity_level(parsed_args)"
   ]
  },
  {
   "cell_type": "code",
   "execution_count": 2,
   "id": "fedc5d39",
   "metadata": {},
   "outputs": [
    {
     "name": "stdout",
     "output_type": "stream",
     "text": [
      "usage: my-cli [-h] [--version] [--verbose | --quiet | --verbosity LEVEL]\n",
      "\n",
      "My command-line interface.\n",
      "\n",
      "options:\n",
      "  -h, --help         show this help message and exit\n",
      "  --version          show program's version number and exit\n",
      "  --verbose, -v      be more verbose than by default (repeat up to 3 times for\n",
      "                     stronger effect)\n",
      "  --quiet, -q        be more quiet than by default (repeat up to 2 times for\n",
      "                     stronger effect)\n",
      "  --verbosity LEVEL  set verbosity level explicitly (normally from 0 to 5)\n",
      "\n",
      "Copyright 2019-2023 by The Author. Apache License 2.0. https://github.com/...\n"
     ]
    }
   ],
   "source": [
    "try:\n",
    "    main(['-h'])\n",
    "except SystemExit:\n",
    "    pass"
   ]
  },
  {
   "cell_type": "code",
   "execution_count": 3,
   "id": "29416be6",
   "metadata": {},
   "outputs": [
    {
     "name": "stdout",
     "output_type": "stream",
     "text": [
      "my-cli 1.0.1, Python 3.11.0 (main, Feb 13 2023, 00:02:15) [GCC 12.1.0]\n"
     ]
    }
   ],
   "source": [
    "try:\n",
    "    main(['--version'])\n",
    "except SystemExit:\n",
    "    pass"
   ]
  }
 ],
 "metadata": {
  "kernelspec": {
   "display_name": "Python 3 (ipykernel)",
   "language": "python",
   "name": "python3"
  },
  "language_info": {
   "codemirror_mode": {
    "name": "ipython",
    "version": 3
   },
   "file_extension": ".py",
   "mimetype": "text/x-python",
   "name": "python",
   "nbconvert_exporter": "python",
   "pygments_lexer": "ipython3",
   "version": "3.11.0"
  },
  "toc": {
   "base_numbering": 1,
   "nav_menu": {},
   "number_sections": true,
   "sideBar": true,
   "skip_h1_title": false,
   "title_cell": "Table of Contents",
   "title_sidebar": "Contents",
   "toc_cell": false,
   "toc_position": {},
   "toc_section_display": true,
   "toc_window_display": false
  }
 },
 "nbformat": 4,
 "nbformat_minor": 5
}
